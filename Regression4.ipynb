{
 "cells": [
  {
   "cell_type": "markdown",
   "id": "51499f7c-3dd0-4948-ae7e-62afbf8af1b9",
   "metadata": {},
   "source": [
    "# Ans : 1"
   ]
  },
  {
   "cell_type": "code",
   "execution_count": null,
   "id": "7e0ea5e8-8fb1-4a3e-9081-5f32971234aa",
   "metadata": {},
   "outputs": [],
   "source": [
    "'''\n",
    "Lasso Regression:\n",
    "\n",
    "Lasso (Least Absolute Shrinkage and Selection Operator) Regression is a type of linear regression that uses L1 regularization to constrain\n",
    "    the sum of the absolute values of the model coefficients. This constraint can force some coefficients to be exactly zero, effectively performing feature selection.\n",
    "Differences from Other Regression Techniques: Unlike standard linear regression, which can include all features, Lasso can shrink some \n",
    "    coefficients to zero, thereby excluding irrelevant features. It differs from Ridge Regression, which uses L2 regularization and does not shrink coefficients to zero.\n",
    "    \n",
    "'''"
   ]
  },
  {
   "cell_type": "markdown",
   "id": "0ad8e9d4-f43b-46e8-b2a8-688aeba8190e",
   "metadata": {},
   "source": [
    "# Ans: 2"
   ]
  },
  {
   "cell_type": "code",
   "execution_count": null,
   "id": "e5e62567-548b-49a9-904c-bd8b99ba48d3",
   "metadata": {},
   "outputs": [],
   "source": [
    "'''\n",
    "The main advantage of Lasso Regression in feature selection is its ability to produce sparse models by setting some coefficients exactly \n",
    "to zero. This makes it easier to identify and exclude irrelevant features, simplifying the model and improving interpretability.\n",
    "\n",
    "'''"
   ]
  },
  {
   "cell_type": "markdown",
   "id": "454a37d8-49d6-4f2d-a12c-ecabdfb7b8f9",
   "metadata": {},
   "source": [
    "# Ans : 3"
   ]
  },
  {
   "cell_type": "code",
   "execution_count": null,
   "id": "bed1bb31-9940-4856-8124-a2699705b8a7",
   "metadata": {},
   "outputs": [],
   "source": [
    "'''\n",
    "The coefficients in a Lasso Regression model represent the relationship between the predictor variables and the target variable. \n",
    "Non-zero coefficients indicate that the corresponding features are relevant to the model. Coefficients that are exactly zero indicate that \n",
    "the features are not contributing to the model.\n",
    "\n",
    "'''\n",
    "\n"
   ]
  },
  {
   "cell_type": "markdown",
   "id": "f9b9aa83-6bf9-4983-95b2-7906c12268ef",
   "metadata": {},
   "source": [
    "# Ans : 4"
   ]
  },
  {
   "cell_type": "code",
   "execution_count": null,
   "id": "63d857d4-d3d2-4123-9d24-b718b1340cc2",
   "metadata": {},
   "outputs": [],
   "source": [
    "'''\n",
    "Tuning Parameters in Lasso Regression:\n",
    "\n",
    "Lambda (λ): The regularization parameter that controls the strength of the penalty. Larger values of λ increase the penalty, shrinking more coefficients to zero, while smaller values reduce the penalty, allowing more coefficients to remain non-zero.\n",
    "Alpha (α): In some implementations (e.g., Elastic Net), α can be used to mix L1 and L2 penalties. When α = 1, the model is equivalent to Lasso; when α = 0, it is equivalent to Ridge Regression.\n",
    "These parameters affect model performance by balancing bias and variance. Higher regularization (larger λ) reduces variance but increases bias, while lower regularization (smaller λ) reduces bias but increases variance.\n",
    "'''"
   ]
  },
  {
   "cell_type": "markdown",
   "id": "9a965dd5-efc7-42c6-85d9-ed4ea6dd46f7",
   "metadata": {},
   "source": [
    "# Ans : 5"
   ]
  },
  {
   "cell_type": "code",
   "execution_count": null,
   "id": "d11194d4-5082-49bd-954f-04b4b477a5ea",
   "metadata": {},
   "outputs": [],
   "source": [
    "'''\n",
    "Lasso Regression is inherently a linear model, but it can be adapted for non-linear problems using techniques such as polynomial features,\n",
    "basis functions, or kernel methods. By transforming the input features into a higher-dimensional space, Lasso can model non-linear relationships.\n",
    "\n",
    "'''"
   ]
  },
  {
   "cell_type": "markdown",
   "id": "86c4606d-783a-4272-abcc-1ddda3369d35",
   "metadata": {},
   "source": [
    "# Ans : 6"
   ]
  },
  {
   "cell_type": "code",
   "execution_count": null,
   "id": "0c6236be-e69c-4601-8d00-f03767b84565",
   "metadata": {},
   "outputs": [],
   "source": [
    "'''\n",
    "Difference between Ridge Regression and Lasso Regression:\n",
    "\n",
    "Ridge Regression: Uses L2 regularization, adding a penalty equal to the sum of the squared coefficients. It shrinks coefficients but does not set any to zero, so all features remain in the model.\n",
    "Lasso Regression: Uses L1 regularization, adding a penalty equal to the sum of the absolute values of the coefficients. It can shrink some coefficients to zero, effectively performing feature selection.\n",
    "\n",
    "'''"
   ]
  },
  {
   "cell_type": "markdown",
   "id": "7ea24c87-5b7b-4a2f-9176-b9e204b1bc0f",
   "metadata": {},
   "source": [
    "# Ans : 7"
   ]
  },
  {
   "cell_type": "code",
   "execution_count": null,
   "id": "062520b6-a5de-4125-8c37-e7828a0e90b2",
   "metadata": {},
   "outputs": [],
   "source": [
    "'''\n",
    "Handling Multicollinearity in Input Features:\n",
    "\n",
    "Lasso Regression can handle multicollinearity by selecting one of the correlated features and shrinking the others to zero. This helps in\n",
    "reducing redundancy and improving model interpretability.\n",
    "\n",
    "'''"
   ]
  },
  {
   "cell_type": "markdown",
   "id": "80eb2cbb-6a72-4d1f-8a7c-7c48c1d1177f",
   "metadata": {},
   "source": [
    "# Ans : 8"
   ]
  },
  {
   "cell_type": "code",
   "execution_count": null,
   "id": "0fe3c252-b6c6-4627-a54f-dff6d1140240",
   "metadata": {},
   "outputs": [],
   "source": []
  }
 ],
 "metadata": {
  "kernelspec": {
   "display_name": "Python 3 (ipykernel)",
   "language": "python",
   "name": "python3"
  },
  "language_info": {
   "codemirror_mode": {
    "name": "ipython",
    "version": 3
   },
   "file_extension": ".py",
   "mimetype": "text/x-python",
   "name": "python",
   "nbconvert_exporter": "python",
   "pygments_lexer": "ipython3",
   "version": "3.10.8"
  }
 },
 "nbformat": 4,
 "nbformat_minor": 5
}
